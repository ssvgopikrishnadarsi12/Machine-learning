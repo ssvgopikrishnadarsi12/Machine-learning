{
  "nbformat": 4,
  "nbformat_minor": 0,
  "metadata": {
    "colab": {
      "name": "logisticipynb",
      "provenance": []
    },
    "kernelspec": {
      "name": "python3",
      "display_name": "Python 3"
    },
    "language_info": {
      "name": "python"
    }
  },
  "cells": [
    {
      "cell_type": "code",
      "execution_count": 2,
      "metadata": {
        "id": "uJ5eRaADirJF"
      },
      "outputs": [],
      "source": [
        "import numpy as np\n",
        "import pandas as pd\n",
        "import matplotlib.pyplot as plt\n",
        "import seaborn as sns\n",
        "%matplotlib inline"
      ]
    },
    {
      "cell_type": "code",
      "source": [
        "train_df = pd.read_csv(\"/content/mnist_train.csv\")\n",
        "test_df = pd.read_csv(\"/content/mnist_test.csv\")"
      ],
      "metadata": {
        "id": "sO4ocrp4ix-1"
      },
      "execution_count": 3,
      "outputs": []
    },
    {
      "cell_type": "code",
      "source": [
        "train_df.replace([np.inf, -np.inf], np.nan, inplace=True)\n",
        "train_df.fillna(999, inplace=True)"
      ],
      "metadata": {
        "id": "q7z-3s9Pi0ZG"
      },
      "execution_count": 4,
      "outputs": []
    },
    {
      "cell_type": "code",
      "source": [
        "train_df.shape"
      ],
      "metadata": {
        "colab": {
          "base_uri": "https://localhost:8080/"
        },
        "id": "LCzeBlygi3xx",
        "outputId": "7116a463-7212-4809-c408-96d8c55be072"
      },
      "execution_count": 6,
      "outputs": [
        {
          "output_type": "execute_result",
          "data": {
            "text/plain": [
              "(9750, 785)"
            ]
          },
          "metadata": {},
          "execution_count": 6
        }
      ]
    },
    {
      "cell_type": "code",
      "source": [
        "y=train_df['label']\n",
        "x=train_df.drop('label',axis=1)"
      ],
      "metadata": {
        "id": "PYn4KsV2i5dx"
      },
      "execution_count": 5,
      "outputs": []
    },
    {
      "cell_type": "code",
      "source": [
        "x_for_test_data=test_df[:]"
      ],
      "metadata": {
        "id": "12Y6AbR4i66N"
      },
      "execution_count": 7,
      "outputs": []
    },
    {
      "cell_type": "code",
      "source": [
        "plt.figure(figsize=(7,7))\n",
        "some_digit=120\n",
        "some_digit_image = x.iloc[some_digit].to_numpy().reshape(28, 28)\n",
        "plt.imshow(np.reshape(some_digit_image, (28,28)), cmap=plt.cm.gray)\n",
        "print(y[some_digit])"
      ],
      "metadata": {
        "colab": {
          "base_uri": "https://localhost:8080/",
          "height": 445
        },
        "id": "u3dT4R73i8lC",
        "outputId": "c3305869-6e6f-4d02-970d-61849cdddfab"
      },
      "execution_count": 8,
      "outputs": [
        {
          "output_type": "stream",
          "name": "stdout",
          "text": [
            "2\n"
          ]
        },
        {
          "output_type": "display_data",
          "data": {
            "text/plain": [
              "<Figure size 504x504 with 1 Axes>"
            ],
            "image/png": "[encoded data removed]"
          },
          "metadata": {
            "needs_background": "light"
          }
        }
      ]
    },
    {
      "cell_type": "code",
      "source": [
        "from sklearn.model_selection import  train_test_split\n",
        "x_train, x_test, y_train, y_test = train_test_split(x, y, test_size = 0.30, random_state = 42)\n"
      ],
      "metadata": {
        "id": "zoa1peTQi-al"
      },
      "execution_count": 9,
      "outputs": []
    },
    {
      "cell_type": "code",
      "source": [
        "from sklearn.linear_model import LogisticRegression\n",
        "log_classifier = LogisticRegression(random_state=1000)\n",
        "log_classifier.fit(x_train, y_train)"
      ],
      "metadata": {
        "colab": {
          "base_uri": "https://localhost:8080/"
        },
        "id": "rfSUObCYi_Iz",
        "outputId": "c0460a71-d105-4de3-ca31-62ad00f91034"
      },
      "execution_count": 10,
      "outputs": [
        {
          "output_type": "stream",
          "name": "stderr",
          "text": [
            "/usr/local/lib/python3.7/dist-packages/sklearn/linear_model/_logistic.py:818: ConvergenceWarning: lbfgs failed to converge (status=1):\n",
            "STOP: TOTAL NO. of ITERATIONS REACHED LIMIT.\n",
            "\n",
            "Increase the number of iterations (max_iter) or scale the data as shown in:\n",
            "    https://scikit-learn.org/stable/modules/preprocessing.html\n",
            "Please also refer to the documentation for alternative solver options:\n",
            "    https://scikit-learn.org/stable/modules/linear_model.html#logistic-regression\n",
            "  extra_warning_msg=_LOGISTIC_SOLVER_CONVERGENCE_MSG,\n"
          ]
        },
        {
          "output_type": "execute_result",
          "data": {
            "text/plain": [
              "LogisticRegression(random_state=1000)"
            ]
          },
          "metadata": {},
          "execution_count": 10
        }
      ]
    },
    {
      "cell_type": "code",
      "source": [
        "y_pred_log=log_classifier.predict(x_test)\n",
        "y_pred_log"
      ],
      "metadata": {
        "colab": {
          "base_uri": "https://localhost:8080/"
        },
        "id": "WJmcw9k6jAya",
        "outputId": "1c50b5e3-116f-4e80-a780-5c2795520990"
      },
      "execution_count": 11,
      "outputs": [
        {
          "output_type": "execute_result",
          "data": {
            "text/plain": [
              "array([1, 6, 0, ..., 9, 8, 3])"
            ]
          },
          "metadata": {},
          "execution_count": 11
        }
      ]
    },
    {
      "cell_type": "code",
      "source": [
        "from sklearn.metrics import accuracy_score,classification_report,confusion_matrix\n",
        "\n",
        "print(classification_report(y_test, y_pred_log))\n",
        "print(accuracy_score(y_test, y_pred_log))"
      ],
      "metadata": {
        "colab": {
          "base_uri": "https://localhost:8080/"
        },
        "id": "4IYpakTcjGDT",
        "outputId": "65d0bf2f-157d-4c4b-ee5e-9b58e82b954e"
      },
      "execution_count": 12,
      "outputs": [
        {
          "output_type": "stream",
          "name": "stdout",
          "text": [
            "              precision    recall  f1-score   support\n",
            "\n",
            "           0       0.94      0.96      0.95       297\n",
            "           1       0.94      0.96      0.95       336\n",
            "           2       0.86      0.85      0.85       294\n",
            "           3       0.83      0.82      0.83       311\n",
            "           4       0.88      0.91      0.90       274\n",
            "           5       0.81      0.82      0.81       268\n",
            "           6       0.94      0.93      0.94       289\n",
            "           7       0.89      0.91      0.90       319\n",
            "           8       0.77      0.76      0.76       258\n",
            "           9       0.88      0.82      0.85       279\n",
            "\n",
            "    accuracy                           0.88      2925\n",
            "   macro avg       0.87      0.87      0.87      2925\n",
            "weighted avg       0.88      0.88      0.88      2925\n",
            "\n",
            "0.8769230769230769\n"
          ]
        }
      ]
    }
  ]
}