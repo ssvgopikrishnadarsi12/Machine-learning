{
  "nbformat": 4,
  "nbformat_minor": 0,
  "metadata": {
    "colab": {
      "name": "FIND-S Algorithm.ipynb",
      "provenance": [],
      "collapsed_sections": []
    },
    "kernelspec": {
      "name": "python3",
      "display_name": "Python 3"
    },
    "language_info": {
      "name": "python"
    }
  },
  "cells": [
    {
      "cell_type": "markdown",
      "source": [
        "**FIND-S ALGORITHM**"
      ],
      "metadata": {
        "id": "ir6Jkm7n2sam"
      }
    },
    {
      "cell_type": "code",
      "execution_count": 2,
      "metadata": {
        "id": "iM-p9hMH2k8c"
      },
      "outputs": [],
      "source": [
        "import pandas as pd\n",
        "import numpy as np"
      ]
    },
    {
      "cell_type": "code",
      "source": [
        "data=pd.read_csv('/content/finds_dataset.csv')\n",
        "print(data)"
      ],
      "metadata": {
        "id": "_QOLMEM825kD",
        "colab": {
          "base_uri": "https://localhost:8080/"
        },
        "outputId": "bc7325ea-1f47-4282-9198-bbf99d42d652"
      },
      "execution_count": 3,
      "outputs": [
        {
          "output_type": "stream",
          "name": "stdout",
          "text": [
            "  Citations    Size InLibrary       Price Editions  Buy\n",
            "0      Some   Small        No  Affordable      One   No\n",
            "1      Many     Big        No   Expensive     Many  Yes\n",
            "2      Many  Medium        No   Expensive      Few  Yes\n",
            "3      Many   Small        No  Affordable     Many  Yes\n"
          ]
        }
      ]
    },
    {
      "cell_type": "code",
      "source": [
        "data.info()"
      ],
      "metadata": {
        "colab": {
          "base_uri": "https://localhost:8080/"
        },
        "id": "chuBCiA73N4k",
        "outputId": "f7444ad3-aa01-4c25-dcc2-408dc4b859db"
      },
      "execution_count": 4,
      "outputs": [
        {
          "output_type": "stream",
          "name": "stdout",
          "text": [
            "<class 'pandas.core.frame.DataFrame'>\n",
            "RangeIndex: 4 entries, 0 to 3\n",
            "Data columns (total 6 columns):\n",
            " #   Column     Non-Null Count  Dtype \n",
            "---  ------     --------------  ----- \n",
            " 0   Citations  4 non-null      object\n",
            " 1   Size       4 non-null      object\n",
            " 2   InLibrary  4 non-null      object\n",
            " 3   Price      4 non-null      object\n",
            " 4   Editions   4 non-null      object\n",
            " 5   Buy        4 non-null      object\n",
            "dtypes: object(6)\n",
            "memory usage: 320.0+ bytes\n"
          ]
        }
      ]
    },
    {
      "cell_type": "code",
      "source": [
        "import random\n",
        "import csv\n",
        "\n",
        "a = []\n",
        "print(\"\\nTraining Data Set is :  \\n\")\n",
        "with open('/content/finds_dataset.csv', 'r') as csvfile:\n",
        " reader = csv.reader(csvfile)\n",
        " for row in reader:\n",
        "   a.append(row)\n",
        "   print(row)\n",
        "numOfAttributes = len(a[0])-1\n",
        "print(\"\\nInitial hypothesis is : \")\n",
        "hypothesis = ['0'] * numOfAttributes\n",
        "print(hypothesis)\n",
        "for i in range(0, len(a)):\n",
        "    if a[i][numOfAttributes] == 'Yes':\n",
        "        print (\"\\nInstance\", i+1, \"is : \", a[i], \"\\nPositive Instance\")\n",
        "        for j in range(0,numOfAttributes):\n",
        "            if hypothesis[j] == '0' or hypothesis[j] == a[i][j]:\n",
        "                hypothesis[j] = a[i][j]\n",
        "            else:\n",
        "                hypothesis[j] = '?'\n",
        "        print(\"Hypothesis for training instance\", i+1, \" is: \" , hypothesis, \"\\n\")\n",
        "\n",
        "    if a[i][numOfAttributes] == 'No':\n",
        "        print (\"\\nInstance \", i+1, \"is\", a[i], \"\\nNegative Instance is Ignored\")\n",
        "        print(\"Hypothesis for training instance\", i+1, \" is: \" , hypothesis, \"\\n\")\n",
        "print(\"\\nFinal Hypothesis :\\n\")\n",
        "print(hypothesis)"
      ],
      "metadata": {
        "colab": {
          "base_uri": "https://localhost:8080/"
        },
        "id": "BzV3C2d63Yiz",
        "outputId": "3023449b-63bc-4e72-b38d-aa909309d43f"
      },
      "execution_count": 7,
      "outputs": [
        {
          "output_type": "stream",
          "name": "stdout",
          "text": [
            "\n",
            "Training Data Set is :  \n",
            "\n",
            "['Citations', 'Size', 'InLibrary', 'Price', 'Editions', 'Buy']\n",
            "['Some', 'Small', 'No', 'Affordable', 'One', 'No']\n",
            "['Many', 'Big', 'No', 'Expensive', 'Many', 'Yes']\n",
            "['Many', 'Medium', 'No', 'Expensive', 'Few', 'Yes']\n",
            "['Many', 'Small', 'No', 'Affordable', 'Many', 'Yes']\n",
            "\n",
            "Initial hypothesis is : \n",
            "['0', '0', '0', '0', '0']\n",
            "\n",
            "Instance  2 is ['Some', 'Small', 'No', 'Affordable', 'One', 'No'] \n",
            "Negative Instance is Ignored\n",
            "Hypothesis for training instance 2  is:  ['0', '0', '0', '0', '0'] \n",
            "\n",
            "\n",
            "Instance 3 is :  ['Many', 'Big', 'No', 'Expensive', 'Many', 'Yes'] \n",
            "Positive Instance\n",
            "Hypothesis for training instance 3  is:  ['Many', 'Big', 'No', 'Expensive', 'Many'] \n",
            "\n",
            "\n",
            "Instance 4 is :  ['Many', 'Medium', 'No', 'Expensive', 'Few', 'Yes'] \n",
            "Positive Instance\n",
            "Hypothesis for training instance 4  is:  ['Many', '?', 'No', 'Expensive', '?'] \n",
            "\n",
            "\n",
            "Instance 5 is :  ['Many', 'Small', 'No', 'Affordable', 'Many', 'Yes'] \n",
            "Positive Instance\n",
            "Hypothesis for training instance 5  is:  ['Many', '?', 'No', '?', '?'] \n",
            "\n",
            "\n",
            "Final Hypothesis :\n",
            "\n",
            "['Many', '?', 'No', '?', '?']\n"
          ]
        }
      ]
    }
  ]
}