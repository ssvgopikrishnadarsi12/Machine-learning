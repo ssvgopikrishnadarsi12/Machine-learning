{
  "nbformat": 4,
  "nbformat_minor": 0,
  "metadata": {
    "colab": {
      "name": "Random Forest Algorithm.ipynb",
      "provenance": []
    },
    "kernelspec": {
      "name": "python3",
      "display_name": "Python 3"
    },
    "language_info": {
      "name": "python"
    }
  },
  "cells": [
    {
      "cell_type": "markdown",
      "source": [
        "**RANDOM FOREST ALGORITHM FOR TITANIC DATASET**"
      ],
      "metadata": {
        "id": "V7gCikf3SDtc"
      }
    },
    {
      "cell_type": "code",
      "execution_count": 1,
      "metadata": {
        "id": "N5JN9xhPSBrz"
      },
      "outputs": [],
      "source": [
        "import numpy as np\n",
        "import pandas as pd"
      ]
    },
    {
      "cell_type": "code",
      "source": [
        "data=pd.read_csv('/content/randomforest_dataset.csv')\n",
        "data.Age=data.Age.fillna(data.Age.mean())\n",
        "s={'male':1,'female':0}\n",
        "data['Sex']=data['Sex'].map(s)\n",
        "print(data)"
      ],
      "metadata": {
        "colab": {
          "base_uri": "https://localhost:8080/"
        },
        "id": "GdMJWWC-SO39",
        "outputId": "4a69243c-081f-4f46-f527-9011410e1ddf"
      },
      "execution_count": 2,
      "outputs": [
        {
          "output_type": "stream",
          "name": "stdout",
          "text": [
            "     Survived  Pclass  Sex       Age\n",
            "0           0       3    1  34.50000\n",
            "1           1       3    0  47.00000\n",
            "2           0       2    1  62.00000\n",
            "3           0       3    1  27.00000\n",
            "4           1       3    0  22.00000\n",
            "..        ...     ...  ...       ...\n",
            "413         0       3    1  30.27259\n",
            "414         1       1    0  39.00000\n",
            "415         0       3    1  38.50000\n",
            "416         0       3    1  30.27259\n",
            "417         0       3    1  30.27259\n",
            "\n",
            "[418 rows x 4 columns]\n"
          ]
        }
      ]
    },
    {
      "cell_type": "code",
      "source": [
        "from sklearn.model_selection import train_test_split as tts\n",
        "x=data.drop('Survived',axis=1)\n",
        "y=data['Survived']\n",
        "x_train,x_test,y_train,y_test=tts(x,y,test_size=0.3)\n",
        "print(x_train.shape,x_test.shape)\n",
        "print(y_train.shape,y_test.shape)"
      ],
      "metadata": {
        "colab": {
          "base_uri": "https://localhost:8080/"
        },
        "id": "9ioOTvWaSU9J",
        "outputId": "72b78f12-57fa-4d36-d89c-8361c7d35cd8"
      },
      "execution_count": 3,
      "outputs": [
        {
          "output_type": "stream",
          "name": "stdout",
          "text": [
            "(292, 3) (126, 3)\n",
            "(292,) (126,)\n"
          ]
        }
      ]
    },
    {
      "cell_type": "code",
      "source": [
        "from sklearn.ensemble import RandomForestClassifier\n",
        "from sklearn.metrics import classification_report\n",
        "from sklearn.metrics import confusion_matrix\n",
        "c1=RandomForestClassifier(n_estimators=100)\n",
        "c2=RandomForestClassifier(n_estimators=150)\n",
        "c1.fit(x_train, y_train)\n",
        "c2.fit(x_train, y_train)\n",
        "p1=c1.predict(x_test)\n",
        "p2=c2.predict(x_test)\n",
        "from sklearn.metrics import confusion_matrix\n",
        "confusion_matrix(y_test,c1.predict(x_test))\n",
        "confusion_matrix(y_test,c2.predict(x_test))"
      ],
      "metadata": {
        "colab": {
          "base_uri": "https://localhost:8080/"
        },
        "id": "1SeYdpAESXAO",
        "outputId": "fc0b856e-6710-46ed-a0fd-ef16a27f0e47"
      },
      "execution_count": 4,
      "outputs": [
        {
          "output_type": "execute_result",
          "data": {
            "text/plain": [
              "array([[81,  0],\n",
              "       [ 0, 45]])"
            ]
          },
          "metadata": {},
          "execution_count": 4
        }
      ]
    },
    {
      "cell_type": "code",
      "source": [
        "from sklearn import metrics\n",
        "from sklearn.metrics import confusion_matrix,classification_report,accuracy_score\n",
        "print(\"Accuracy : \",metrics.accuracy_score(y_test,p1))\n",
        "print(\"Confusion Matrix : \",metrics.confusion_matrix(y_test,p1))\n",
        "print(\"Classification report : \",metrics.classification_report(y_test,p1))\n",
        "print(\"Accuracy : \",metrics.accuracy_score(y_test,p2))\n",
        "print(\"Confusion Matrix : \",metrics.confusion_matrix(y_test,p2))\n",
        "print(\"Classification report : \",metrics.classification_report(y_test,p2))"
      ],
      "metadata": {
        "colab": {
          "base_uri": "https://localhost:8080/"
        },
        "id": "KZqnIbKcSZ0b",
        "outputId": "2e074f61-d4e0-4065-edd7-4813db4a8b3e"
      },
      "execution_count": 5,
      "outputs": [
        {
          "output_type": "stream",
          "name": "stdout",
          "text": [
            "Accuracy :  1.0\n",
            "Confusion Matrix :  [[81  0]\n",
            " [ 0 45]]\n",
            "Classification report :                precision    recall  f1-score   support\n",
            "\n",
            "           0       1.00      1.00      1.00        81\n",
            "           1       1.00      1.00      1.00        45\n",
            "\n",
            "    accuracy                           1.00       126\n",
            "   macro avg       1.00      1.00      1.00       126\n",
            "weighted avg       1.00      1.00      1.00       126\n",
            "\n",
            "Accuracy :  1.0\n",
            "Confusion Matrix :  [[81  0]\n",
            " [ 0 45]]\n",
            "Classification report :                precision    recall  f1-score   support\n",
            "\n",
            "           0       1.00      1.00      1.00        81\n",
            "           1       1.00      1.00      1.00        45\n",
            "\n",
            "    accuracy                           1.00       126\n",
            "   macro avg       1.00      1.00      1.00       126\n",
            "weighted avg       1.00      1.00      1.00       126\n",
            "\n"
          ]
        }
      ]
    }
  ]
}