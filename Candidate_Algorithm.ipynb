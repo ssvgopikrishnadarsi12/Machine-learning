{
  "nbformat": 4,
  "nbformat_minor": 0,
  "metadata": {
    "colab": {
      "name": "Candidate Algorithm.ipynb",
      "provenance": [],
      "collapsed_sections": []
    },
    "kernelspec": {
      "name": "python3",
      "display_name": "Python 3"
    },
    "language_info": {
      "name": "python"
    }
  },
  "cells": [
    {
      "cell_type": "markdown",
      "source": [
        "**CANDIDATE ALGORITHM**\n"
      ],
      "metadata": {
        "id": "vFSeQiiNFT8X"
      }
    },
    {
      "cell_type": "code",
      "execution_count": 6,
      "metadata": {
        "id": "jDSY3nfZEcJV"
      },
      "outputs": [],
      "source": [
        "import pandas as pd\n",
        "import numpy as np"
      ]
    },
    {
      "cell_type": "code",
      "source": [
        "data = pd.DataFrame(data=pd.read_csv('/content/candidatealgo_dataset.csv'))\n",
        "print(data)"
      ],
      "metadata": {
        "colab": {
          "base_uri": "https://localhost:8080/"
        },
        "id": "4MhDvmQlEhtK",
        "outputId": "f1eb946c-d564-4bf8-8ab1-a193c9f4ebff"
      },
      "execution_count": 8,
      "outputs": [
        {
          "output_type": "stream",
          "name": "stdout",
          "text": [
            "  Citations    Size InLibrary       Price Editions  Buy\n",
            "0      Some   Small        No  Affordable      One   No\n",
            "1      Many     Big        No   Expensive     Many  Yes\n",
            "2      Many  Medium        No   Expensive      Few  Yes\n",
            "3      Many   Small        No  Affordable     Many  Yes\n"
          ]
        }
      ]
    },
    {
      "cell_type": "code",
      "source": [
        "data.info()"
      ],
      "metadata": {
        "colab": {
          "base_uri": "https://localhost:8080/"
        },
        "id": "qZbHwdTTEss3",
        "outputId": "a5c01366-9d6a-4f8c-a9ed-ecea115c49f3"
      },
      "execution_count": 9,
      "outputs": [
        {
          "output_type": "stream",
          "name": "stdout",
          "text": [
            "<class 'pandas.core.frame.DataFrame'>\n",
            "RangeIndex: 4 entries, 0 to 3\n",
            "Data columns (total 6 columns):\n",
            " #   Column     Non-Null Count  Dtype \n",
            "---  ------     --------------  ----- \n",
            " 0   Citations  4 non-null      object\n",
            " 1   Size       4 non-null      object\n",
            " 2   InLibrary  4 non-null      object\n",
            " 3   Price      4 non-null      object\n",
            " 4   Editions   4 non-null      object\n",
            " 5   Buy        4 non-null      object\n",
            "dtypes: object(6)\n",
            "memory usage: 320.0+ bytes\n"
          ]
        }
      ]
    },
    {
      "cell_type": "code",
      "source": [
        "c = np.array(data.iloc[:,0:-1])\n",
        "t = np.array(data.iloc[:,-1])\n",
        "print(t)#target row\n",
        "print(c)#concepts row"
      ],
      "metadata": {
        "colab": {
          "base_uri": "https://localhost:8080/"
        },
        "id": "KW9-K7xfEzd0",
        "outputId": "2482f567-5850-4ad6-e2c4-9356a4a5ba13"
      },
      "execution_count": 10,
      "outputs": [
        {
          "output_type": "stream",
          "name": "stdout",
          "text": [
            "['No' 'Yes' 'Yes' 'Yes']\n",
            "[['Some' 'Small' 'No' 'Affordable' 'One']\n",
            " ['Many' 'Big' 'No' 'Expensive' 'Many']\n",
            " ['Many' 'Medium' 'No' 'Expensive' 'Few']\n",
            " ['Many' 'Small' 'No' 'Affordable' 'Many']]\n"
          ]
        }
      ]
    },
    {
      "cell_type": "code",
      "source": [
        "def learn(c,t): \n",
        "    s = c[0].copy()\n",
        "    print(\"\\nInitialization of specific_h and genearal_h\")\n",
        "    print(\"\\nSpecific Boundary: \", s)\n",
        "    g = [[\"?\" for i in range(len(s))] for i in range(len(s))]\n",
        "    print(\"\\nGeneric Boundary: \",g)  \n",
        "\n",
        "    for i, h in enumerate(c):\n",
        "        print(\"\\nInstance\", i+1 , \"is \", h)\n",
        "        if t[i] == \"Yes\":\n",
        "            print(\"Positive Instance\")\n",
        "            for x in range(len(s)): \n",
        "                if h[x]!= s[x]:                    \n",
        "                    s[x] ='?'                     \n",
        "                    g[x][x] ='?'\n",
        "                   \n",
        "        if t[i] == \"No\":            \n",
        "            print(\"Negative Instance\")\n",
        "            for x in range(len(s)): \n",
        "                if h[x]!= s[x]:                    \n",
        "                    g[x][x] = s[x]                \n",
        "                else:                    \n",
        "                    g[x][x] = '?'        \n",
        "        \n",
        "        print(\"Specific Bundary after \", i+1, \"Instance is \", s)         \n",
        "        print(\"Generic Boundary after \", i+1, \"Instance is \", g)\n",
        "        print(\"\\n\")\n",
        "\n",
        "    indices = [i for i, val in enumerate(g) if val == ['?', '?', '?', '?', '?', '?']]    \n",
        "    for i in indices:   \n",
        "        g.remove(['?', '?', '?', '?', '?', '?']) \n",
        "    return s, g \n",
        "\n",
        "s_final, g_final = learn(c,t)\n",
        "\n",
        "print(\"Final Specific_h: \", s_final, sep=\"\\n\")\n",
        "print(\"Final General_h: \", g_final, sep=\"\\n\")"
      ],
      "metadata": {
        "colab": {
          "base_uri": "https://localhost:8080/"
        },
        "id": "gX9wMj4RE2cq",
        "outputId": "06d206c4-0ec6-4642-ceb7-ad273fddf311"
      },
      "execution_count": 12,
      "outputs": [
        {
          "output_type": "stream",
          "name": "stdout",
          "text": [
            "\n",
            "Initialization of specific_h and genearal_h\n",
            "\n",
            "Specific Boundary:  ['Some' 'Small' 'No' 'Affordable' 'One']\n",
            "\n",
            "Generic Boundary:  [['?', '?', '?', '?', '?'], ['?', '?', '?', '?', '?'], ['?', '?', '?', '?', '?'], ['?', '?', '?', '?', '?'], ['?', '?', '?', '?', '?']]\n",
            "\n",
            "Instance 1 is  ['Some' 'Small' 'No' 'Affordable' 'One']\n",
            "Negative Instance\n",
            "Specific Bundary after  1 Instance is  ['Some' 'Small' 'No' 'Affordable' 'One']\n",
            "Generic Boundary after  1 Instance is  [['?', '?', '?', '?', '?'], ['?', '?', '?', '?', '?'], ['?', '?', '?', '?', '?'], ['?', '?', '?', '?', '?'], ['?', '?', '?', '?', '?']]\n",
            "\n",
            "\n",
            "\n",
            "Instance 2 is  ['Many' 'Big' 'No' 'Expensive' 'Many']\n",
            "Positive Instance\n",
            "Specific Bundary after  2 Instance is  ['?' '?' 'No' '?' '?']\n",
            "Generic Boundary after  2 Instance is  [['?', '?', '?', '?', '?'], ['?', '?', '?', '?', '?'], ['?', '?', '?', '?', '?'], ['?', '?', '?', '?', '?'], ['?', '?', '?', '?', '?']]\n",
            "\n",
            "\n",
            "\n",
            "Instance 3 is  ['Many' 'Medium' 'No' 'Expensive' 'Few']\n",
            "Positive Instance\n",
            "Specific Bundary after  3 Instance is  ['?' '?' 'No' '?' '?']\n",
            "Generic Boundary after  3 Instance is  [['?', '?', '?', '?', '?'], ['?', '?', '?', '?', '?'], ['?', '?', '?', '?', '?'], ['?', '?', '?', '?', '?'], ['?', '?', '?', '?', '?']]\n",
            "\n",
            "\n",
            "\n",
            "Instance 4 is  ['Many' 'Small' 'No' 'Affordable' 'Many']\n",
            "Positive Instance\n",
            "Specific Bundary after  4 Instance is  ['?' '?' 'No' '?' '?']\n",
            "Generic Boundary after  4 Instance is  [['?', '?', '?', '?', '?'], ['?', '?', '?', '?', '?'], ['?', '?', '?', '?', '?'], ['?', '?', '?', '?', '?'], ['?', '?', '?', '?', '?']]\n",
            "\n",
            "\n",
            "Final Specific_h: \n",
            "['?' '?' 'No' '?' '?']\n",
            "Final General_h: \n",
            "[['?', '?', '?', '?', '?'], ['?', '?', '?', '?', '?'], ['?', '?', '?', '?', '?'], ['?', '?', '?', '?', '?'], ['?', '?', '?', '?', '?']]\n"
          ]
        }
      ]
    }
  ]
}